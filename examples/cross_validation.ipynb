{
 "cells": [
  {
   "cell_type": "markdown",
   "metadata": {
    "pycharm": {
     "name": "#%% md\n"
    }
   },
   "source": [
    "In this example, we will cross-validate GateNet using the publicly available ND dataset which was published during the [FlowCAP I challenge](https://www.nature.com/articles/nmeth.2365).\n",
    "\n",
    "First all needed imports are done"
   ]
  },
  {
   "cell_type": "code",
   "execution_count": 1,
   "metadata": {
    "pycharm": {
     "name": "#%%\n"
    }
   },
   "outputs": [],
   "source": [
    "import sys; sys.path.append('..')\n",
    "import numpy as np\n",
    "\n",
    "from src.data.files import get_files_df\n",
    "from src.data.utils import unique_labels\n",
    "from src.train import HPARAMS\n",
    "from src.cv import cv\n",
    "from src.eval import plot_confusion_matrix\n",
    "from src.utils import set_seed"
   ]
  },
  {
   "cell_type": "markdown",
   "metadata": {
    "pycharm": {
     "name": "#%% md\n"
    }
   },
   "source": [
    "For deterministic results we can fix all seeds"
   ]
  },
  {
   "cell_type": "code",
   "execution_count": 2,
   "metadata": {
    "pycharm": {
     "name": "#%%\n"
    }
   },
   "outputs": [],
   "source": [
    "set_seed(seed=0)"
   ]
  },
  {
   "cell_type": "markdown",
   "metadata": {
    "pycharm": {
     "name": "#%% md\n"
    }
   },
   "source": [
    "To rerun this notebook, you have to download the [FlowCAP data](http://flowcap.flowsite.org/codeanddata/FlowCAP-I.zip) and unzip it. Then you have to set 'flowcap_dir' to the path of your unzipped directory."
   ]
  },
  {
   "cell_type": "code",
   "execution_count": 3,
   "metadata": {
    "pycharm": {
     "name": "#%%\n"
    }
   },
   "outputs": [],
   "source": [
    "flowcap_dir = '/mnt/data-ssd/cyto/flowcap1'\n",
    "fcs_dir = f'{flowcap_dir}/Data/FCM/fcs/NDD/FCS'\n",
    "label_dir = f'{flowcap_dir}/Data/Labels/NDD'"
   ]
  },
  {
   "cell_type": "markdown",
   "metadata": {
    "pycharm": {
     "name": "#%% md\n"
    }
   },
   "source": [
    "The FCS filepaths (.fcs, .lmd or .LMD) and respective gating labels (.csv or .ftr) are loaded into a pandas DataFrame"
   ]
  },
  {
   "cell_type": "code",
   "execution_count": 4,
   "metadata": {
    "pycharm": {
     "name": "#%%\n"
    }
   },
   "outputs": [
    {
     "name": "stdout",
     "output_type": "stream",
     "text": [
      "                                                        fcs  \\\n",
      "0  /mnt/data-ssd/cyto/flowcap1/Data/FCM/fcs/NDD/FCS/001.fcs   \n",
      "1  /mnt/data-ssd/cyto/flowcap1/Data/FCM/fcs/NDD/FCS/002.fcs   \n",
      "2  /mnt/data-ssd/cyto/flowcap1/Data/FCM/fcs/NDD/FCS/003.fcs   \n",
      "3  /mnt/data-ssd/cyto/flowcap1/Data/FCM/fcs/NDD/FCS/004.fcs   \n",
      "4  /mnt/data-ssd/cyto/flowcap1/Data/FCM/fcs/NDD/FCS/005.fcs   \n",
      "\n",
      "                                                labels  \n",
      "0  /mnt/data-ssd/cyto/flowcap1/Data/Labels/NDD/001.csv  \n",
      "1  /mnt/data-ssd/cyto/flowcap1/Data/Labels/NDD/002.csv  \n",
      "2  /mnt/data-ssd/cyto/flowcap1/Data/Labels/NDD/003.csv  \n",
      "3  /mnt/data-ssd/cyto/flowcap1/Data/Labels/NDD/004.csv  \n",
      "4  /mnt/data-ssd/cyto/flowcap1/Data/Labels/NDD/005.csv  \n"
     ]
    }
   ],
   "source": [
    "df = get_files_df(fcs_dir, label_dir)\n",
    "print(df.head())"
   ]
  },
  {
   "cell_type": "markdown",
   "metadata": {
    "pycharm": {
     "name": "#%% md\n"
    }
   },
   "source": [
    "Before the data can be loaded, we first have to specify a complete vocabulary of labels (i.e. cell types) which occur in the dataset (should print ['0', '1', '2', '3', '4', '5', '6', '7'])"
   ]
  },
  {
   "cell_type": "code",
   "execution_count": 5,
   "metadata": {
    "pycharm": {
     "name": "#%%\n"
    }
   },
   "outputs": [
    {
     "name": "stdout",
     "output_type": "stream",
     "text": [
      "['0', '1', '2', '3', '4', '5', '6', '7']\n"
     ]
    }
   ],
   "source": [
    "vocab = unique_labels(label_dir, label_col := 0)\n",
    "print(vocab)"
   ]
  },
  {
   "cell_type": "code",
   "execution_count": 6,
   "metadata": {
    "pycharm": {
     "name": "#%%\n"
    }
   },
   "outputs": [],
   "source": [
    "ds_kwargs = {'vocab': vocab, 'multiclass_col': label_col}"
   ]
  },
  {
   "cell_type": "markdown",
   "metadata": {
    "pycharm": {
     "name": "#%% md\n"
    }
   },
   "source": [
    "On top of that, the marker intensities have to be rescaled and normalised such that they resemble a normal distribution (mean 0 and standard deviation 1) as closely as possible.\n",
    "\n",
    "Color marker intensities are typically normally distributed while forward and side scatter intensities often are distributed exponentially. Therefore, the scatter intensities (here 'FSC-A' and 'SSC-A') have to be rescaled using $log(x + 1)$ to yield normal distributions. Alongside the 'forward' transformation (here $log(x + 1)$) the respective, inverse 'backward' transformation (here $e^x - 1$) has to be specified"
   ]
  },
  {
   "cell_type": "code",
   "execution_count": 7,
   "metadata": {
    "pycharm": {
     "name": "#%%\n"
    }
   },
   "outputs": [],
   "source": [
    "fcs_scaling = {'forward': {'FSC-A': lambda x: np.log(x + 1), 'SSC-A': lambda x: np.log(x + 1)},\n",
    "               'backward': {'FSC-A': lambda x: np.exp(x) - 1, 'SSC-A': lambda x: np.exp(x) - 1}}"
   ]
  },
  {
   "cell_type": "markdown",
   "metadata": {
    "pycharm": {
     "name": "#%% md\n"
    }
   },
   "source": [
    "Finally, the distributions have to be normalized such that the mean is 0 and a standard deviation is 1. This is simply done by subtracting the current mean and dividing by the current standard deviation. For the ND dataset, (mean, standard deviation) of the rescaled markers are:"
   ]
  },
  {
   "cell_type": "code",
   "execution_count": 8,
   "metadata": {
    "pycharm": {
     "name": "#%%\n"
    }
   },
   "outputs": [],
   "source": [
    "fcs_norm_stats = {'FSC-A': (12., .43), 'SSC-A': (11., .79), 'FITC-A': (1.8, 0.44), 'PerCP-Cy5-5-A': (0.96, 0.34),\n",
    "                  'Pacific Blue-A': (1.6, 0.36), 'Pacifc Orange-A': (1.3, 0.25), 'QDot 605-A': (0.72, 0.34),\n",
    "                  'APC-A': (1.1, 0.41), 'Alexa 700-A': (2.4, 0.5), 'PE-A': (1.4, 0.26),\n",
    "                  'PE-Cy5-A': (2.4, 0.36), 'PE-Cy7-A': (2.2, 0.47)}"
   ]
  },
  {
   "cell_type": "code",
   "execution_count": 9,
   "metadata": {
    "pycharm": {
     "name": "#%%\n"
    }
   },
   "outputs": [],
   "source": [
    "dl_kwargs = {'fcs_norm_stats': fcs_norm_stats, 'fcs_scaling': fcs_scaling}"
   ]
  },
  {
   "cell_type": "markdown",
   "metadata": {
    "pycharm": {
     "name": "#%% md\n"
    }
   },
   "source": [
    "Finally, the hyperparameters for the GateNet training are set"
   ]
  },
  {
   "cell_type": "code",
   "execution_count": 10,
   "metadata": {
    "pycharm": {
     "name": "#%%\n"
    }
   },
   "outputs": [
    {
     "name": "stdout",
     "output_type": "stream",
     "text": [
      "{'iters': 5000, 'iters_min': 50, 'epochs_max': 10, 'lr': 0.002, 'bs': 1024, 'gamma': 5, 'beta': 0.99, 'n_filter': (1024, 512, 256), 'n_filter_context': (64, 48), 'n_head_nodes': (32,), 'balance_ids': False, 'oversample_beta': 0.999, 'n_context_events': 1000}\n"
     ]
    }
   ],
   "source": [
    "hparams = HPARAMS\n",
    "print(hparams)"
   ]
  },
  {
   "cell_type": "markdown",
   "metadata": {
    "pycharm": {
     "name": "#%% md\n"
    }
   },
   "source": [
    "For a quick test run (lower performance), the number of epochs can be reduced from 10 to 1"
   ]
  },
  {
   "cell_type": "code",
   "execution_count": 11,
   "metadata": {
    "pycharm": {
     "name": "#%%\n"
    }
   },
   "outputs": [],
   "source": [
    "hparams.update({'iters': 100})"
   ]
  },
  {
   "cell_type": "markdown",
   "metadata": {
    "pycharm": {
     "name": "#%% md\n"
    }
   },
   "source": [
    "5-fold cross-validation is done"
   ]
  },
  {
   "cell_type": "code",
   "execution_count": 12,
   "metadata": {
    "pycharm": {
     "name": "#%%\n"
    }
   },
   "outputs": [
    {
     "data": {
      "text/plain": "<IPython.core.display.HTML object>",
      "text/html": "\n<style>\n    /* Turns off some styling */\n    progress {\n        /* gets rid of default border in Firefox and Opera. */\n        border: none;\n        /* Needs to be in here for Safari polyfill so background images work as expected. */\n        background-size: auto;\n    }\n    .progress-bar-interrupted, .progress-bar-interrupted::-webkit-progress-bar {\n        background: #F44336;\n    }\n</style>\n"
     },
     "metadata": {},
     "output_type": "display_data"
    },
    {
     "data": {
      "text/plain": "<IPython.core.display.HTML object>",
      "text/html": "\n    <div>\n      <progress value='0' class='' max='1' style='width:300px; height:20px; vertical-align: middle;'></progress>\n      \n    </div>\n    \n"
     },
     "metadata": {},
     "output_type": "display_data"
    },
    {
     "data": {
      "text/plain": "<IPython.core.display.HTML object>",
      "text/html": "\n<style>\n    /* Turns off some styling */\n    progress {\n        /* gets rid of default border in Firefox and Opera. */\n        border: none;\n        /* Needs to be in here for Safari polyfill so background images work as expected. */\n        background-size: auto;\n    }\n    .progress-bar-interrupted, .progress-bar-interrupted::-webkit-progress-bar {\n        background: #F44336;\n    }\n</style>\n"
     },
     "metadata": {},
     "output_type": "display_data"
    },
    {
     "data": {
      "text/plain": "<IPython.core.display.HTML object>",
      "text/html": "\n    <div>\n      <progress value='0' class='' max='1' style='width:300px; height:20px; vertical-align: middle;'></progress>\n      \n    </div>\n    \n"
     },
     "metadata": {},
     "output_type": "display_data"
    },
    {
     "name": "stdout",
     "output_type": "stream",
     "text": [
      "       FSC-A      SSC-A    FITC-A  PerCP-Cy5-5-A  Pacific Blue-A  \\\n",
      "0  11.540473  10.790753  2.157689       0.579083        1.930591   \n",
      "1  10.871103   9.989284  1.962930       0.401545        1.797101   \n",
      "2  11.093181  10.688510  2.064609       0.281483        1.785131   \n",
      "3  11.567129  12.020021  2.266574       1.119162        1.928758   \n",
      "4  10.843714  10.350043  2.076122       0.328035        1.740867   \n",
      "\n",
      "   Pacifc Orange-A  QDot 605-A     APC-A  Alexa 700-A      PE-A  ...  0  1  2  \\\n",
      "0         1.253792    0.842704  0.887293     1.839019  1.305078  ...  1  0  0   \n",
      "1         1.227518    0.871632  1.043129     1.782810  1.151766  ...  1  0  0   \n",
      "2         1.213261    0.635844  0.288231     1.856309  1.181292  ...  1  0  0   \n",
      "3         1.275034    0.840032  1.035842     2.085839  1.334119  ...  0  0  1   \n",
      "4         1.627157    0.956006  0.725581     1.928788  1.099105  ...  1  0  0   \n",
      "\n",
      "   3  4  5  6  7                                                   id  fold  \n",
      "0  0  0  0  0  0  /mnt/data-ssd/cyto/flowcap1/Data/Labels/NDD/003.csv     0  \n",
      "1  0  0  0  0  0  /mnt/data-ssd/cyto/flowcap1/Data/Labels/NDD/003.csv     0  \n",
      "2  0  0  0  0  0  /mnt/data-ssd/cyto/flowcap1/Data/Labels/NDD/003.csv     0  \n",
      "3  0  0  0  0  0  /mnt/data-ssd/cyto/flowcap1/Data/Labels/NDD/003.csv     0  \n",
      "4  0  0  0  0  0  /mnt/data-ssd/cyto/flowcap1/Data/Labels/NDD/003.csv     0  \n",
      "\n",
      "[5 rows x 30 columns]\n"
     ]
    }
   ],
   "source": [
    "result = cv(df, hparams, ds_kwargs, dl_kwargs, folds=2, with_targs=True)\n",
    "print(result.head())"
   ]
  },
  {
   "cell_type": "markdown",
   "metadata": {
    "pycharm": {
     "name": "#%% md\n"
    }
   },
   "source": [
    "The 'result' of the cross validation is a DataFrame with marker intensities + true labels + predicted labels + id (filename) + fold across all validation folds"
   ]
  },
  {
   "cell_type": "code",
   "execution_count": 13,
   "metadata": {
    "pycharm": {
     "name": "#%%\n"
    }
   },
   "outputs": [
    {
     "name": "stdout",
     "output_type": "stream",
     "text": [
      "     0_pred    1_pred    2_pred    3_pred    4_pred    5_pred    6_pred  \\\n",
      "0  0.005921  0.025147  0.002602  0.873587  0.031297  0.023867  0.010040   \n",
      "1  0.008096  0.024943  0.003727  0.019166  0.034884  0.026969  0.847637   \n",
      "2  0.659874  0.055722  0.018995  0.061871  0.049924  0.052053  0.047824   \n",
      "3  0.253519  0.119842  0.226755  0.076736  0.070177  0.081287  0.086911   \n",
      "4  0.008791  0.018130  0.003640  0.010114  0.032830  0.027177  0.868462   \n",
      "\n",
      "     7_pred  0  1  2  3  4  5  6  7  \\\n",
      "0  0.027538  1  0  0  0  0  0  0  0   \n",
      "1  0.034579  1  0  0  0  0  0  0  0   \n",
      "2  0.053738  1  0  0  0  0  0  0  0   \n",
      "3  0.084773  0  0  1  0  0  0  0  0   \n",
      "4  0.030856  1  0  0  0  0  0  0  0   \n",
      "\n",
      "                                                    id  fold  \n",
      "0  /mnt/data-ssd/cyto/flowcap1/Data/Labels/NDD/003.csv     0  \n",
      "1  /mnt/data-ssd/cyto/flowcap1/Data/Labels/NDD/003.csv     0  \n",
      "2  /mnt/data-ssd/cyto/flowcap1/Data/Labels/NDD/003.csv     0  \n",
      "3  /mnt/data-ssd/cyto/flowcap1/Data/Labels/NDD/003.csv     0  \n",
      "4  /mnt/data-ssd/cyto/flowcap1/Data/Labels/NDD/003.csv     0  \n"
     ]
    }
   ],
   "source": [
    "print(result.iloc[:, 12:].head())"
   ]
  },
  {
   "cell_type": "code",
   "execution_count": 14,
   "metadata": {
    "pycharm": {
     "name": "#%%\n"
    }
   },
   "outputs": [
    {
     "data": {
      "text/plain": "<Figure size 432x288 with 2 Axes>",
      "image/png": "[encoded data removed]"
     },
     "metadata": {
      "needs_background": "light"
     },
     "output_type": "display_data"
    }
   ],
   "source": [
    "plot_confusion_matrix(result)"
   ]
  }
 ],
 "metadata": {
  "kernelspec": {
   "display_name": "Python 3 (ipykernel)",
   "language": "python",
   "name": "python3"
  },
  "language_info": {
   "codemirror_mode": {
    "name": "ipython",
    "version": 3
   },
   "file_extension": ".py",
   "mimetype": "text/x-python",
   "name": "python",
   "nbconvert_exporter": "python",
   "pygments_lexer": "ipython3",
   "version": "3.9.7"
  }
 },
 "nbformat": 4,
 "nbformat_minor": 1
}