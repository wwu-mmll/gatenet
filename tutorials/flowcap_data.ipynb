{
 "cells": [
  {
   "cell_type": "markdown",
   "metadata": {
    "pycharm": {
     "name": "#%% md\n"
    }
   },
   "source": [
    "# Cross Validation of GateNet\n",
    "In this example, we will cross-validate GateNet using the publicly available ND dataset consisting of 30 expert gated samples which were published during the [FlowCAP I challenge](https://www.nature.com/articles/nmeth.2365).\n",
    "\n",
    "To rerun this notebook, the [FlowCAP data](http://flowcap.flowsite.org/codeanddata/FlowCAP-I.zip) has to be downloaded."
   ]
  },
  {
   "cell_type": "code",
   "execution_count": 1,
   "metadata": {
    "pycharm": {
     "name": "#%%\n"
    }
   },
   "outputs": [],
   "source": [
    "import sys; sys.path.append('..')\n",
    "import numpy as np\n",
    "\n",
    "from src.data.files import get_files_df\n",
    "from src.data.utils import unique_labels\n",
    "from src.train import HPARAMS\n",
    "from src.cv import cv\n",
    "from src.utils import set_seed"
   ]
  },
  {
   "cell_type": "markdown",
   "metadata": {
    "pycharm": {
     "name": "#%% md\n"
    }
   },
   "source": [
    "For deterministic results we can fix all seeds"
   ]
  },
  {
   "cell_type": "code",
   "execution_count": 2,
   "metadata": {
    "pycharm": {
     "name": "#%%\n"
    }
   },
   "outputs": [],
   "source": [
    "set_seed(seed=0)"
   ]
  },
  {
   "cell_type": "markdown",
   "metadata": {
    "pycharm": {
     "name": "#%% md\n"
    }
   },
   "source": [
    "To rerun this notebook, you have to unzip the downloaded [FlowCAP data](http://flowcap.flowsite.org/codeanddata/FlowCAP-I.zip). Then you have to set 'flowcap_dir' to the path of your unzipped directory."
   ]
  },
  {
   "cell_type": "code",
   "execution_count": 3,
   "metadata": {
    "pycharm": {
     "name": "#%%\n"
    }
   },
   "outputs": [],
   "source": [
    "flowcap_dir = '/mnt/data-ssd/cyto/flowcap1'\n",
    "fcs_dir = f'{flowcap_dir}/Data/FCM/fcs/NDD/FCS'\n",
    "label_dir = f'{flowcap_dir}/Data/Labels/NDD'"
   ]
  },
  {
   "cell_type": "markdown",
   "metadata": {
    "pycharm": {
     "name": "#%% md\n"
    }
   },
   "source": [
    "The FCS filepaths (.fcs, .lmd or .LMD) and respective gating labels (.csv or .ftr) are loaded into a pandas DataFrame"
   ]
  },
  {
   "cell_type": "code",
   "execution_count": 4,
   "metadata": {
    "pycharm": {
     "name": "#%%\n"
    }
   },
   "outputs": [
    {
     "name": "stdout",
     "output_type": "stream",
     "text": [
      "                                                        fcs  \\\n",
      "0  /mnt/data-ssd/cyto/flowcap1/Data/FCM/fcs/NDD/FCS/001.fcs   \n",
      "1  /mnt/data-ssd/cyto/flowcap1/Data/FCM/fcs/NDD/FCS/002.fcs   \n",
      "2  /mnt/data-ssd/cyto/flowcap1/Data/FCM/fcs/NDD/FCS/003.fcs   \n",
      "3  /mnt/data-ssd/cyto/flowcap1/Data/FCM/fcs/NDD/FCS/004.fcs   \n",
      "4  /mnt/data-ssd/cyto/flowcap1/Data/FCM/fcs/NDD/FCS/005.fcs   \n",
      "\n",
      "                                                labels  \n",
      "0  /mnt/data-ssd/cyto/flowcap1/Data/Labels/NDD/001.csv  \n",
      "1  /mnt/data-ssd/cyto/flowcap1/Data/Labels/NDD/002.csv  \n",
      "2  /mnt/data-ssd/cyto/flowcap1/Data/Labels/NDD/003.csv  \n",
      "3  /mnt/data-ssd/cyto/flowcap1/Data/Labels/NDD/004.csv  \n",
      "4  /mnt/data-ssd/cyto/flowcap1/Data/Labels/NDD/005.csv  \n"
     ]
    }
   ],
   "source": [
    "df = get_files_df(fcs_dir, label_dir)\n",
    "print(df.head())"
   ]
  },
  {
   "cell_type": "markdown",
   "metadata": {
    "pycharm": {
     "name": "#%% md\n"
    }
   },
   "source": [
    "Before the data can be loaded, we first have to specify a complete vocabulary of labels (i.e. cell types) which occur in the dataset (should print ['0', '1', '2', '3', '4', '5', '6', '7'])"
   ]
  },
  {
   "cell_type": "code",
   "execution_count": 5,
   "metadata": {
    "pycharm": {
     "name": "#%%\n"
    }
   },
   "outputs": [
    {
     "name": "stdout",
     "output_type": "stream",
     "text": [
      "['0', '1', '2', '3', '4', '5', '6', '7']\n"
     ]
    }
   ],
   "source": [
    "vocab = unique_labels(label_dir, label_col := 0)\n",
    "print(vocab)"
   ]
  },
  {
   "cell_type": "code",
   "execution_count": 6,
   "metadata": {
    "pycharm": {
     "name": "#%%\n"
    }
   },
   "outputs": [],
   "source": [
    "ds_kwargs = {'vocab': vocab, 'multiclass_col': label_col}"
   ]
  },
  {
   "cell_type": "markdown",
   "metadata": {
    "pycharm": {
     "name": "#%% md\n"
    }
   },
   "source": [
    "On top of that, the marker intensities have to be rescaled and normalised such that they resemble a normal distribution (mean 0 and standard deviation 1) as closely as possible.\n",
    "\n",
    "Color marker intensities are typically normally distributed while forward and side scatter intensities often are distributed exponentially. Therefore, the scatter intensities (here 'FSC-A' and 'SSC-A') have to be rescaled using $log(x + 1)$ to yield normal distributions. Alongside the 'forward' transformation (here $log(x + 1)$) the respective, inverse 'backward' transformation (here $e^x - 1$) has to be specified"
   ]
  },
  {
   "cell_type": "code",
   "execution_count": 7,
   "metadata": {
    "pycharm": {
     "name": "#%%\n"
    }
   },
   "outputs": [],
   "source": [
    "fcs_scaling = {'forward': {'FSC-A': lambda x: np.log(x + 1), 'SSC-A': lambda x: np.log(x + 1)},\n",
    "               'backward': {'FSC-A': lambda x: np.exp(x) - 1, 'SSC-A': lambda x: np.exp(x) - 1}}"
   ]
  },
  {
   "cell_type": "markdown",
   "metadata": {
    "pycharm": {
     "name": "#%% md\n"
    }
   },
   "source": [
    "The distributions have to be normalized such that the mean is 0 and a standard deviation is 1. This is simply done by subtracting the current mean and dividing by the current standard deviation. For the ND dataset, (mean, standard deviation) of the rescaled markers are:"
   ]
  },
  {
   "cell_type": "code",
   "execution_count": 8,
   "metadata": {
    "pycharm": {
     "name": "#%%\n"
    }
   },
   "outputs": [],
   "source": [
    "fcs_norm_stats = {'FSC-A': (12., .43), 'SSC-A': (11., .79), 'FITC-A': (1.8, 0.44), 'PerCP-Cy5-5-A': (0.96, 0.34),\n",
    "                  'Pacific Blue-A': (1.6, 0.36), 'Pacifc Orange-A': (1.3, 0.25), 'QDot 605-A': (0.72, 0.34),\n",
    "                  'APC-A': (1.1, 0.41), 'Alexa 700-A': (2.4, 0.5), 'PE-A': (1.4, 0.26),\n",
    "                  'PE-Cy5-A': (2.4, 0.36), 'PE-Cy7-A': (2.2, 0.47)}"
   ]
  },
  {
   "cell_type": "code",
   "execution_count": 9,
   "metadata": {
    "pycharm": {
     "name": "#%%\n"
    }
   },
   "outputs": [],
   "source": [
    "dl_kwargs = {'fcs_norm_stats': fcs_norm_stats, 'fcs_scaling': fcs_scaling}"
   ]
  },
  {
   "cell_type": "markdown",
   "metadata": {
    "pycharm": {
     "name": "#%% md\n"
    }
   },
   "source": [
    "Finally, the hyperparameters for the GateNet training are set"
   ]
  },
  {
   "cell_type": "code",
   "execution_count": 10,
   "metadata": {
    "pycharm": {
     "name": "#%%\n"
    }
   },
   "outputs": [
    {
     "name": "stdout",
     "output_type": "stream",
     "text": [
      "{'iters': 5000, 'iters_min': 50, 'epochs_max': 10, 'lr': 0.002, 'bs': 1024, 'gamma': 5, 'beta': 0.99, 'n_filter': (1024, 512, 256), 'n_filter_context': (64, 48), 'n_head_nodes': (32,), 'balance_ids': False, 'oversample_beta': 0.999, 'n_context_events': 1000}\n"
     ]
    }
   ],
   "source": [
    "hparams = HPARAMS\n",
    "print(hparams)"
   ]
  },
  {
   "cell_type": "markdown",
   "metadata": {
    "pycharm": {
     "name": "#%% md\n"
    }
   },
   "source": [
    "For a quick test run (with lower performance), the number of iterations can be reduced. By default it is set to 5000."
   ]
  },
  {
   "cell_type": "code",
   "execution_count": 11,
   "metadata": {
    "pycharm": {
     "name": "#%%\n"
    }
   },
   "outputs": [],
   "source": [
    "# hparams.update({'iters': 100})"
   ]
  },
  {
   "cell_type": "markdown",
   "metadata": {
    "pycharm": {
     "name": "#%% md\n"
    }
   },
   "source": [
    "Five-fold cross-validation is done."
   ]
  },
  {
   "cell_type": "code",
   "execution_count": 12,
   "metadata": {
    "pycharm": {
     "name": "#%%\n"
    }
   },
   "outputs": [
    {
     "data": {
      "text/html": [
       "\n",
       "<style>\n",
       "    /* Turns off some styling */\n",
       "    progress {\n",
       "        /* gets rid of default border in Firefox and Opera. */\n",
       "        border: none;\n",
       "        /* Needs to be in here for Safari polyfill so background images work as expected. */\n",
       "        background-size: auto;\n",
       "    }\n",
       "    .progress-bar-interrupted, .progress-bar-interrupted::-webkit-progress-bar {\n",
       "        background: #F44336;\n",
       "    }\n",
       "</style>\n"
      ],
      "text/plain": [
       "<IPython.core.display.HTML object>"
      ]
     },
     "metadata": {},
     "output_type": "display_data"
    },
    {
     "data": {
      "text/html": [
       "<table border=\"1\" class=\"dataframe\">\n",
       "  <thead>\n",
       "    <tr style=\"text-align: left;\">\n",
       "      <th>epoch</th>\n",
       "      <th>train_loss</th>\n",
       "      <th>valid_loss</th>\n",
       "      <th>accuracy</th>\n",
       "      <th>balanced_accuracy_score</th>\n",
       "      <th>f1_score</th>\n",
       "      <th>f1_score</th>\n",
       "      <th>time</th>\n",
       "    </tr>\n",
       "  </thead>\n",
       "  <tbody>\n",
       "    <tr>\n",
       "      <td>0</td>\n",
       "      <td>0.331502</td>\n",
       "      <td>0.349790</td>\n",
       "      <td>0.920772</td>\n",
       "      <td>0.839955</td>\n",
       "      <td>0.921666</td>\n",
       "      <td>0.767254</td>\n",
       "      <td>00:54</td>\n",
       "    </tr>\n",
       "    <tr>\n",
       "      <td>1</td>\n",
       "      <td>0.287854</td>\n",
       "      <td>0.315396</td>\n",
       "      <td>0.934621</td>\n",
       "      <td>0.835345</td>\n",
       "      <td>0.934053</td>\n",
       "      <td>0.799593</td>\n",
       "      <td>00:52</td>\n",
       "    </tr>\n",
       "    <tr>\n",
       "      <td>2</td>\n",
       "      <td>0.276954</td>\n",
       "      <td>0.308518</td>\n",
       "      <td>0.940455</td>\n",
       "      <td>0.816973</td>\n",
       "      <td>0.940226</td>\n",
       "      <td>0.821060</td>\n",
       "      <td>00:52</td>\n",
       "    </tr>\n",
       "    <tr>\n",
       "      <td>3</td>\n",
       "      <td>0.309970</td>\n",
       "      <td>0.939438</td>\n",
       "      <td>0.791703</td>\n",
       "      <td>0.939121</td>\n",
       "      <td>0.813853</td>\n",
       "      <td>00:34</td>\n",
       "    </tr>\n",
       "  </tbody>\n",
       "</table>"
      ],
      "text/plain": [
       "<IPython.core.display.HTML object>"
      ]
     },
     "metadata": {},
     "output_type": "display_data"
    },
    {
     "data": {
      "text/html": [
       "\n",
       "<style>\n",
       "    /* Turns off some styling */\n",
       "    progress {\n",
       "        /* gets rid of default border in Firefox and Opera. */\n",
       "        border: none;\n",
       "        /* Needs to be in here for Safari polyfill so background images work as expected. */\n",
       "        background-size: auto;\n",
       "    }\n",
       "    .progress-bar-interrupted, .progress-bar-interrupted::-webkit-progress-bar {\n",
       "        background: #F44336;\n",
       "    }\n",
       "</style>\n"
      ],
      "text/plain": [
       "<IPython.core.display.HTML object>"
      ]
     },
     "metadata": {},
     "output_type": "display_data"
    },
    {
     "data": {
      "text/html": [
       "<table border=\"1\" class=\"dataframe\">\n",
       "  <thead>\n",
       "    <tr style=\"text-align: left;\">\n",
       "      <th>epoch</th>\n",
       "      <th>train_loss</th>\n",
       "      <th>valid_loss</th>\n",
       "      <th>accuracy</th>\n",
       "      <th>balanced_accuracy_score</th>\n",
       "      <th>f1_score</th>\n",
       "      <th>f1_score</th>\n",
       "      <th>time</th>\n",
       "    </tr>\n",
       "  </thead>\n",
       "  <tbody>\n",
       "    <tr>\n",
       "      <td>0</td>\n",
       "      <td>0.328945</td>\n",
       "      <td>0.374404</td>\n",
       "      <td>0.905191</td>\n",
       "      <td>0.650804</td>\n",
       "      <td>0.903985</td>\n",
       "      <td>0.698999</td>\n",
       "      <td>00:50</td>\n",
       "    </tr>\n",
       "    <tr>\n",
       "      <td>1</td>\n",
       "      <td>0.288371</td>\n",
       "      <td>0.320582</td>\n",
       "      <td>0.928531</td>\n",
       "      <td>0.840802</td>\n",
       "      <td>0.928217</td>\n",
       "      <td>0.777078</td>\n",
       "      <td>00:52</td>\n",
       "    </tr>\n",
       "    <tr>\n",
       "      <td>2</td>\n",
       "      <td>0.277280</td>\n",
       "      <td>0.309787</td>\n",
       "      <td>0.939966</td>\n",
       "      <td>0.782693</td>\n",
       "      <td>0.939864</td>\n",
       "      <td>0.803522</td>\n",
       "      <td>00:48</td>\n",
       "    </tr>\n",
       "    <tr>\n",
       "      <td>3</td>\n",
       "      <td>0.307630</td>\n",
       "      <td>0.941781</td>\n",
       "      <td>0.795386</td>\n",
       "      <td>0.941699</td>\n",
       "      <td>0.805400</td>\n",
       "      <td>00:27</td>\n",
       "    </tr>\n",
       "  </tbody>\n",
       "</table>"
      ],
      "text/plain": [
       "<IPython.core.display.HTML object>"
      ]
     },
     "metadata": {},
     "output_type": "display_data"
    },
    {
     "data": {
      "text/html": [
       "\n",
       "<style>\n",
       "    /* Turns off some styling */\n",
       "    progress {\n",
       "        /* gets rid of default border in Firefox and Opera. */\n",
       "        border: none;\n",
       "        /* Needs to be in here for Safari polyfill so background images work as expected. */\n",
       "        background-size: auto;\n",
       "    }\n",
       "    .progress-bar-interrupted, .progress-bar-interrupted::-webkit-progress-bar {\n",
       "        background: #F44336;\n",
       "    }\n",
       "</style>\n"
      ],
      "text/plain": [
       "<IPython.core.display.HTML object>"
      ]
     },
     "metadata": {},
     "output_type": "display_data"
    },
    {
     "data": {
      "text/html": [
       "<table border=\"1\" class=\"dataframe\">\n",
       "  <thead>\n",
       "    <tr style=\"text-align: left;\">\n",
       "      <th>epoch</th>\n",
       "      <th>train_loss</th>\n",
       "      <th>valid_loss</th>\n",
       "      <th>accuracy</th>\n",
       "      <th>balanced_accuracy_score</th>\n",
       "      <th>f1_score</th>\n",
       "      <th>f1_score</th>\n",
       "      <th>time</th>\n",
       "    </tr>\n",
       "  </thead>\n",
       "  <tbody>\n",
       "    <tr>\n",
       "      <td>0</td>\n",
       "      <td>0.335025</td>\n",
       "      <td>0.378757</td>\n",
       "      <td>0.895719</td>\n",
       "      <td>0.683681</td>\n",
       "      <td>0.890608</td>\n",
       "      <td>0.706837</td>\n",
       "      <td>00:53</td>\n",
       "    </tr>\n",
       "    <tr>\n",
       "      <td>1</td>\n",
       "      <td>0.288947</td>\n",
       "      <td>0.334425</td>\n",
       "      <td>0.915612</td>\n",
       "      <td>0.820928</td>\n",
       "      <td>0.915470</td>\n",
       "      <td>0.769504</td>\n",
       "      <td>00:54</td>\n",
       "    </tr>\n",
       "    <tr>\n",
       "      <td>2</td>\n",
       "      <td>0.277297</td>\n",
       "      <td>0.332003</td>\n",
       "      <td>0.918387</td>\n",
       "      <td>0.766567</td>\n",
       "      <td>0.917122</td>\n",
       "      <td>0.762992</td>\n",
       "      <td>00:53</td>\n",
       "    </tr>\n",
       "    <tr>\n",
       "      <td>3</td>\n",
       "      <td>0.333893</td>\n",
       "      <td>0.916977</td>\n",
       "      <td>0.801941</td>\n",
       "      <td>0.916964</td>\n",
       "      <td>0.762374</td>\n",
       "      <td>00:37</td>\n",
       "    </tr>\n",
       "  </tbody>\n",
       "</table>"
      ],
      "text/plain": [
       "<IPython.core.display.HTML object>"
      ]
     },
     "metadata": {},
     "output_type": "display_data"
    },
    {
     "data": {
      "text/html": [
       "\n",
       "<style>\n",
       "    /* Turns off some styling */\n",
       "    progress {\n",
       "        /* gets rid of default border in Firefox and Opera. */\n",
       "        border: none;\n",
       "        /* Needs to be in here for Safari polyfill so background images work as expected. */\n",
       "        background-size: auto;\n",
       "    }\n",
       "    .progress-bar-interrupted, .progress-bar-interrupted::-webkit-progress-bar {\n",
       "        background: #F44336;\n",
       "    }\n",
       "</style>\n"
      ],
      "text/plain": [
       "<IPython.core.display.HTML object>"
      ]
     },
     "metadata": {},
     "output_type": "display_data"
    },
    {
     "data": {
      "text/html": [
       "<table border=\"1\" class=\"dataframe\">\n",
       "  <thead>\n",
       "    <tr style=\"text-align: left;\">\n",
       "      <th>epoch</th>\n",
       "      <th>train_loss</th>\n",
       "      <th>valid_loss</th>\n",
       "      <th>accuracy</th>\n",
       "      <th>balanced_accuracy_score</th>\n",
       "      <th>f1_score</th>\n",
       "      <th>f1_score</th>\n",
       "      <th>time</th>\n",
       "    </tr>\n",
       "  </thead>\n",
       "  <tbody>\n",
       "    <tr>\n",
       "      <td>0</td>\n",
       "      <td>0.332336</td>\n",
       "      <td>0.355914</td>\n",
       "      <td>0.912118</td>\n",
       "      <td>0.737885</td>\n",
       "      <td>0.910918</td>\n",
       "      <td>0.719314</td>\n",
       "      <td>00:53</td>\n",
       "    </tr>\n",
       "    <tr>\n",
       "      <td>1</td>\n",
       "      <td>0.287965</td>\n",
       "      <td>0.324425</td>\n",
       "      <td>0.924736</td>\n",
       "      <td>0.815850</td>\n",
       "      <td>0.924411</td>\n",
       "      <td>0.800123</td>\n",
       "      <td>00:52</td>\n",
       "    </tr>\n",
       "    <tr>\n",
       "      <td>2</td>\n",
       "      <td>0.276375</td>\n",
       "      <td>0.309509</td>\n",
       "      <td>0.939645</td>\n",
       "      <td>0.801907</td>\n",
       "      <td>0.939173</td>\n",
       "      <td>0.825537</td>\n",
       "      <td>00:52</td>\n",
       "    </tr>\n",
       "    <tr>\n",
       "      <td>3</td>\n",
       "      <td>0.308429</td>\n",
       "      <td>0.941033</td>\n",
       "      <td>0.804786</td>\n",
       "      <td>0.940343</td>\n",
       "      <td>0.830924</td>\n",
       "      <td>00:35</td>\n",
       "    </tr>\n",
       "  </tbody>\n",
       "</table>"
      ],
      "text/plain": [
       "<IPython.core.display.HTML object>"
      ]
     },
     "metadata": {},
     "output_type": "display_data"
    },
    {
     "data": {
      "text/html": [
       "\n",
       "<style>\n",
       "    /* Turns off some styling */\n",
       "    progress {\n",
       "        /* gets rid of default border in Firefox and Opera. */\n",
       "        border: none;\n",
       "        /* Needs to be in here for Safari polyfill so background images work as expected. */\n",
       "        background-size: auto;\n",
       "    }\n",
       "    .progress-bar-interrupted, .progress-bar-interrupted::-webkit-progress-bar {\n",
       "        background: #F44336;\n",
       "    }\n",
       "</style>\n"
      ],
      "text/plain": [
       "<IPython.core.display.HTML object>"
      ]
     },
     "metadata": {},
     "output_type": "display_data"
    },
    {
     "data": {
      "text/html": [
       "<table border=\"1\" class=\"dataframe\">\n",
       "  <thead>\n",
       "    <tr style=\"text-align: left;\">\n",
       "      <th>epoch</th>\n",
       "      <th>train_loss</th>\n",
       "      <th>valid_loss</th>\n",
       "      <th>accuracy</th>\n",
       "      <th>balanced_accuracy_score</th>\n",
       "      <th>f1_score</th>\n",
       "      <th>f1_score</th>\n",
       "      <th>time</th>\n",
       "    </tr>\n",
       "  </thead>\n",
       "  <tbody>\n",
       "    <tr>\n",
       "      <td>0</td>\n",
       "      <td>0.329188</td>\n",
       "      <td>0.367625</td>\n",
       "      <td>0.909043</td>\n",
       "      <td>0.760958</td>\n",
       "      <td>0.909384</td>\n",
       "      <td>0.721276</td>\n",
       "      <td>00:52</td>\n",
       "    </tr>\n",
       "    <tr>\n",
       "      <td>1</td>\n",
       "      <td>0.285419</td>\n",
       "      <td>0.331609</td>\n",
       "      <td>0.918785</td>\n",
       "      <td>0.823468</td>\n",
       "      <td>0.918248</td>\n",
       "      <td>0.764566</td>\n",
       "      <td>00:48</td>\n",
       "    </tr>\n",
       "    <tr>\n",
       "      <td>2</td>\n",
       "      <td>0.276099</td>\n",
       "      <td>0.307568</td>\n",
       "      <td>0.941815</td>\n",
       "      <td>0.830266</td>\n",
       "      <td>0.941609</td>\n",
       "      <td>0.820574</td>\n",
       "      <td>00:48</td>\n",
       "    </tr>\n",
       "    <tr>\n",
       "      <td>3</td>\n",
       "      <td>0.307045</td>\n",
       "      <td>0.942259</td>\n",
       "      <td>0.832155</td>\n",
       "      <td>0.942094</td>\n",
       "      <td>0.821786</td>\n",
       "      <td>00:31</td>\n",
       "    </tr>\n",
       "  </tbody>\n",
       "</table>"
      ],
      "text/plain": [
       "<IPython.core.display.HTML object>"
      ]
     },
     "metadata": {},
     "output_type": "display_data"
    },
    {
     "name": "stdout",
     "output_type": "stream",
     "text": [
      "       FSC-A      SSC-A    FITC-A  PerCP-Cy5-5-A  Pacific Blue-A  \\\n",
      "0  11.540473  10.790753  2.157689       0.579083        1.930591   \n",
      "1  10.871103   9.989284  1.962930       0.401545        1.797101   \n",
      "2  11.093181  10.688510  2.064609       0.281483        1.785131   \n",
      "3  11.567129  12.020021  2.266574       1.119162        1.928758   \n",
      "4  10.843714  10.350043  2.076122       0.328035        1.740867   \n",
      "\n",
      "   Pacifc Orange-A  QDot 605-A     APC-A  Alexa 700-A      PE-A  ...  0  1  2  \\\n",
      "0         1.253792    0.842704  0.887293     1.839019  1.305078  ...  1  0  0   \n",
      "1         1.227518    0.871632  1.043129     1.782810  1.151766  ...  1  0  0   \n",
      "2         1.213261    0.635844  0.288231     1.856309  1.181292  ...  1  0  0   \n",
      "3         1.275034    0.840032  1.035842     2.085839  1.334119  ...  0  0  1   \n",
      "4         1.627157    0.956006  0.725581     1.928788  1.099105  ...  1  0  0   \n",
      "\n",
      "   3  4  5  6  7                                                   id  fold  \n",
      "0  0  0  0  0  0  /mnt/data-ssd/cyto/flowcap1/Data/Labels/NDD/003.csv     0  \n",
      "1  0  0  0  0  0  /mnt/data-ssd/cyto/flowcap1/Data/Labels/NDD/003.csv     0  \n",
      "2  0  0  0  0  0  /mnt/data-ssd/cyto/flowcap1/Data/Labels/NDD/003.csv     0  \n",
      "3  0  0  0  0  0  /mnt/data-ssd/cyto/flowcap1/Data/Labels/NDD/003.csv     0  \n",
      "4  0  0  0  0  0  /mnt/data-ssd/cyto/flowcap1/Data/Labels/NDD/003.csv     0  \n",
      "\n",
      "[5 rows x 30 columns]\n"
     ]
    }
   ],
   "source": [
    "result = cv(df, hparams, ds_kwargs, dl_kwargs, folds=5, with_targs=True)\n",
    "print(result.head())"
   ]
  },
  {
   "cell_type": "markdown",
   "metadata": {
    "pycharm": {
     "name": "#%% md\n"
    }
   },
   "source": [
    "The 'result' of the cross validation is a DataFrame with marker intensities + true labels + predicted labels + id (filename) + fold across all validation folds. In this case, this are too many columns to display. So we split it up into the marker intensities..."
   ]
  },
  {
   "cell_type": "code",
   "execution_count": 13,
   "metadata": {
    "pycharm": {
     "name": "#%%\n"
    }
   },
   "outputs": [
    {
     "name": "stdout",
     "output_type": "stream",
     "text": [
      "       FSC-A      SSC-A    FITC-A  PerCP-Cy5-5-A  Pacific Blue-A  \\\n",
      "0  11.540473  10.790753  2.157689       0.579083        1.930591   \n",
      "1  10.871103   9.989284  1.962930       0.401545        1.797101   \n",
      "2  11.093181  10.688510  2.064609       0.281483        1.785131   \n",
      "3  11.567129  12.020021  2.266574       1.119162        1.928758   \n",
      "4  10.843714  10.350043  2.076122       0.328035        1.740867   \n",
      "\n",
      "   Pacifc Orange-A  QDot 605-A     APC-A  Alexa 700-A      PE-A  PE-Cy5-A  \\\n",
      "0         1.253792    0.842704  0.887293     1.839019  1.305078  2.300368   \n",
      "1         1.227518    0.871632  1.043129     1.782810  1.151766  2.834283   \n",
      "2         1.213261    0.635844  0.288231     1.856309  1.181292  3.147278   \n",
      "3         1.275034    0.840032  1.035842     2.085839  1.334119  2.058220   \n",
      "4         1.627157    0.956006  0.725581     1.928788  1.099105  2.853909   \n",
      "\n",
      "   PE-Cy7-A  \n",
      "0  1.809408  \n",
      "1  2.883132  \n",
      "2  2.747585  \n",
      "3  1.577168  \n",
      "4  3.004694  \n"
     ]
    }
   ],
   "source": [
    "print(result.iloc[:, :12].head())"
   ]
  },
  {
   "cell_type": "markdown",
   "metadata": {
    "pycharm": {
     "name": "#%% md\n"
    }
   },
   "source": [
    "...and the predicted labels, true labels, id (filename) and fold across all validation folds"
   ]
  },
  {
   "cell_type": "code",
   "execution_count": 14,
   "metadata": {
    "pycharm": {
     "name": "#%%\n"
    }
   },
   "outputs": [
    {
     "name": "stdout",
     "output_type": "stream",
     "text": [
      "     0_pred    1_pred    2_pred    3_pred    4_pred    5_pred    6_pred  \\\n",
      "0  0.000527  0.000037  0.000563  0.994218  0.000398  0.000058  0.000234   \n",
      "1  0.000428  0.000088  0.000003  0.000118  0.000062  0.000055  0.997056   \n",
      "2  0.999785  0.000050  0.000088  0.000004  0.000058  0.000007  0.000001   \n",
      "3  0.040541  0.000211  0.955730  0.000080  0.000080  0.000241  0.001102   \n",
      "4  0.000064  0.000260  0.000002  0.000505  0.000069  0.000253  0.994033   \n",
      "\n",
      "     7_pred  0  1  2  3  4  5  6  7  \\\n",
      "0  0.003965  1  0  0  0  0  0  0  0   \n",
      "1  0.002190  1  0  0  0  0  0  0  0   \n",
      "2  0.000008  1  0  0  0  0  0  0  0   \n",
      "3  0.002014  0  0  1  0  0  0  0  0   \n",
      "4  0.004815  1  0  0  0  0  0  0  0   \n",
      "\n",
      "                                                    id  fold  \n",
      "0  /mnt/data-ssd/cyto/flowcap1/Data/Labels/NDD/003.csv     0  \n",
      "1  /mnt/data-ssd/cyto/flowcap1/Data/Labels/NDD/003.csv     0  \n",
      "2  /mnt/data-ssd/cyto/flowcap1/Data/Labels/NDD/003.csv     0  \n",
      "3  /mnt/data-ssd/cyto/flowcap1/Data/Labels/NDD/003.csv     0  \n",
      "4  /mnt/data-ssd/cyto/flowcap1/Data/Labels/NDD/003.csv     0  \n"
     ]
    }
   ],
   "source": [
    "print(result.iloc[:, 12:].head())"
   ]
  },
  {
   "cell_type": "markdown",
   "metadata": {
    "pycharm": {
     "name": "#%% md\n"
    }
   },
   "source": [
    "## Visualize results"
   ]
  },
  {
   "cell_type": "code",
   "execution_count": 17,
   "metadata": {
    "pycharm": {
     "name": "#%%\n"
    }
   },
   "outputs": [
    {
     "data": {
      "image/png": "[encoded data removed]",
      "text/plain": [
       "<Figure size 432x288 with 2 Axes>"
      ]
     },
     "metadata": {
      "needs_background": "light"
     },
     "output_type": "display_data"
    }
   ],
   "source": [
    "from src.eval import plot_confusion_matrix, cv_metrics_table\n",
    "\n",
    "plot_confusion_matrix(result)"
   ]
  },
  {
   "cell_type": "markdown",
   "metadata": {},
   "source": [
    "With 'cv_metrics_table' the metrics accuracy, balanced accuracy, weighted and unweighted F1 score of the results can be calculated. The rows \"mean\" and \"std\" show the average and standard deviation of the metrics across folds."
   ]
  },
  {
   "cell_type": "code",
   "execution_count": 18,
   "metadata": {},
   "outputs": [
    {
     "data": {
      "text/html": [
       "<div>\n",
       "<style scoped>\n",
       "    .dataframe tbody tr th:only-of-type {\n",
       "        vertical-align: middle;\n",
       "    }\n",
       "\n",
       "    .dataframe tbody tr th {\n",
       "        vertical-align: top;\n",
       "    }\n",
       "\n",
       "    .dataframe thead th {\n",
       "        text-align: right;\n",
       "    }\n",
       "</style>\n",
       "<table border=\"1\" class=\"dataframe\">\n",
       "  <thead>\n",
       "    <tr style=\"text-align: right;\">\n",
       "      <th></th>\n",
       "      <th>ACC</th>\n",
       "      <th>BACC</th>\n",
       "      <th>F1_weighted</th>\n",
       "      <th>F1_macro</th>\n",
       "    </tr>\n",
       "  </thead>\n",
       "  <tbody>\n",
       "    <tr>\n",
       "      <th>0</th>\n",
       "      <td>0.939407</td>\n",
       "      <td>0.790963</td>\n",
       "      <td>0.939076</td>\n",
       "      <td>0.813443</td>\n",
       "    </tr>\n",
       "    <tr>\n",
       "      <th>1</th>\n",
       "      <td>0.941879</td>\n",
       "      <td>0.795431</td>\n",
       "      <td>0.941803</td>\n",
       "      <td>0.804426</td>\n",
       "    </tr>\n",
       "    <tr>\n",
       "      <th>2</th>\n",
       "      <td>0.917142</td>\n",
       "      <td>0.801626</td>\n",
       "      <td>0.917121</td>\n",
       "      <td>0.762276</td>\n",
       "    </tr>\n",
       "    <tr>\n",
       "      <th>3</th>\n",
       "      <td>0.941038</td>\n",
       "      <td>0.804906</td>\n",
       "      <td>0.940335</td>\n",
       "      <td>0.831395</td>\n",
       "    </tr>\n",
       "    <tr>\n",
       "      <th>4</th>\n",
       "      <td>0.942321</td>\n",
       "      <td>0.831302</td>\n",
       "      <td>0.942154</td>\n",
       "      <td>0.821575</td>\n",
       "    </tr>\n",
       "    <tr>\n",
       "      <th>mean</th>\n",
       "      <td>0.936358</td>\n",
       "      <td>0.804845</td>\n",
       "      <td>0.936098</td>\n",
       "      <td>0.806623</td>\n",
       "    </tr>\n",
       "    <tr>\n",
       "      <th>std</th>\n",
       "      <td>0.009659</td>\n",
       "      <td>0.014083</td>\n",
       "      <td>0.009552</td>\n",
       "      <td>0.023897</td>\n",
       "    </tr>\n",
       "  </tbody>\n",
       "</table>\n",
       "</div>"
      ],
      "text/plain": [
       "           ACC      BACC  F1_weighted  F1_macro\n",
       "0     0.939407  0.790963     0.939076  0.813443\n",
       "1     0.941879  0.795431     0.941803  0.804426\n",
       "2     0.917142  0.801626     0.917121  0.762276\n",
       "3     0.941038  0.804906     0.940335  0.831395\n",
       "4     0.942321  0.831302     0.942154  0.821575\n",
       "mean  0.936358  0.804845     0.936098  0.806623\n",
       "std   0.009659  0.014083     0.009552  0.023897"
      ]
     },
     "execution_count": 18,
     "metadata": {},
     "output_type": "execute_result"
    }
   ],
   "source": [
    "cv_metrics_table(result)"
   ]
  }
 ],
 "metadata": {
  "kernelspec": {
   "display_name": "Python 3 (ipykernel)",
   "language": "python",
   "name": "python3"
  },
  "language_info": {
   "codemirror_mode": {
    "name": "ipython",
    "version": 3
   },
   "file_extension": ".py",
   "mimetype": "text/x-python",
   "name": "python",
   "nbconvert_exporter": "python",
   "pygments_lexer": "ipython3",
   "version": "3.9.12"
  }
 },
 "nbformat": 4,
 "nbformat_minor": 1
}
