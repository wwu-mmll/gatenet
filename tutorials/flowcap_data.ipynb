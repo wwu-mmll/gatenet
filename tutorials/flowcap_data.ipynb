{
 "cells": [
  {
   "cell_type": "markdown",
   "metadata": {
    "pycharm": {
     "name": "#%% md\n"
    }
   },
   "source": [
    "# Cross Validation of GateNet\n",
    "In this example, we will cross-validate GateNet using the publicly available ND dataset consisting of 30 expert gated samples which were published during the [FlowCAP I challenge](https://www.nature.com/articles/nmeth.2365).\n",
    "\n",
    "To rerun this notebook, the [FlowCAP data](http://flowcap.flowsite.org/codeanddata/FlowCAP-I.zip) has to be downloaded."
   ]
  },
  {
   "cell_type": "code",
   "execution_count": 1,
   "metadata": {
    "pycharm": {
     "name": "#%%\n"
    }
   },
   "outputs": [],
   "source": [
    "import sys; sys.path.append('..')\n",
    "import numpy as np\n",
    "\n",
    "from src.data.files import get_files_df\n",
    "from src.data.utils import unique_labels\n",
    "from src.train import HPARAMS\n",
    "from src.cv import cv\n",
    "from src.eval import plot_confusion_matrix\n",
    "from src.utils import set_seed"
   ]
  },
  {
   "cell_type": "markdown",
   "metadata": {
    "pycharm": {
     "name": "#%% md\n"
    }
   },
   "source": [
    "For deterministic results we can fix all seeds"
   ]
  },
  {
   "cell_type": "code",
   "execution_count": 2,
   "metadata": {
    "pycharm": {
     "name": "#%%\n"
    }
   },
   "outputs": [],
   "source": [
    "set_seed(seed=0)"
   ]
  },
  {
   "cell_type": "markdown",
   "metadata": {
    "pycharm": {
     "name": "#%% md\n"
    }
   },
   "source": [
    "To rerun this notebook, you have to unzip the downloaded [FlowCAP data](http://flowcap.flowsite.org/codeanddata/FlowCAP-I.zip). Then you have to set 'flowcap_dir' to the path of your unzipped directory."
   ]
  },
  {
   "cell_type": "code",
   "execution_count": 3,
   "metadata": {
    "pycharm": {
     "name": "#%%\n"
    }
   },
   "outputs": [],
   "source": [
    "flowcap_dir = '/mnt/data-ssd/cyto/flowcap1'\n",
    "fcs_dir = f'{flowcap_dir}/Data/FCM/fcs/NDD/FCS'\n",
    "label_dir = f'{flowcap_dir}/Data/Labels/NDD'"
   ]
  },
  {
   "cell_type": "markdown",
   "metadata": {
    "pycharm": {
     "name": "#%% md\n"
    }
   },
   "source": [
    "The FCS filepaths (.fcs, .lmd or .LMD) and respective gating labels (.csv or .ftr) are loaded into a pandas DataFrame"
   ]
  },
  {
   "cell_type": "code",
   "execution_count": 4,
   "metadata": {
    "pycharm": {
     "name": "#%%\n"
    }
   },
   "outputs": [
    {
     "name": "stdout",
     "output_type": "stream",
     "text": [
      "                                                        fcs  \\\n",
      "0  /mnt/data-ssd/cyto/flowcap1/Data/FCM/fcs/NDD/FCS/001.fcs   \n",
      "1  /mnt/data-ssd/cyto/flowcap1/Data/FCM/fcs/NDD/FCS/002.fcs   \n",
      "2  /mnt/data-ssd/cyto/flowcap1/Data/FCM/fcs/NDD/FCS/003.fcs   \n",
      "3  /mnt/data-ssd/cyto/flowcap1/Data/FCM/fcs/NDD/FCS/004.fcs   \n",
      "4  /mnt/data-ssd/cyto/flowcap1/Data/FCM/fcs/NDD/FCS/005.fcs   \n",
      "\n",
      "                                                labels  \n",
      "0  /mnt/data-ssd/cyto/flowcap1/Data/Labels/NDD/001.csv  \n",
      "1  /mnt/data-ssd/cyto/flowcap1/Data/Labels/NDD/002.csv  \n",
      "2  /mnt/data-ssd/cyto/flowcap1/Data/Labels/NDD/003.csv  \n",
      "3  /mnt/data-ssd/cyto/flowcap1/Data/Labels/NDD/004.csv  \n",
      "4  /mnt/data-ssd/cyto/flowcap1/Data/Labels/NDD/005.csv  \n"
     ]
    }
   ],
   "source": [
    "df = get_files_df(fcs_dir, label_dir)\n",
    "print(df.head())"
   ]
  },
  {
   "cell_type": "markdown",
   "metadata": {
    "pycharm": {
     "name": "#%% md\n"
    }
   },
   "source": [
    "Before the data can be loaded, we first have to specify a complete vocabulary of labels (i.e. cell types) which occur in the dataset (should print ['0', '1', '2', '3', '4', '5', '6', '7'])"
   ]
  },
  {
   "cell_type": "code",
   "execution_count": 5,
   "metadata": {
    "pycharm": {
     "name": "#%%\n"
    }
   },
   "outputs": [
    {
     "name": "stdout",
     "output_type": "stream",
     "text": [
      "['0', '1', '2', '3', '4', '5', '6', '7']\n"
     ]
    }
   ],
   "source": [
    "vocab = unique_labels(label_dir, label_col := 0)\n",
    "print(vocab)"
   ]
  },
  {
   "cell_type": "code",
   "execution_count": 6,
   "metadata": {
    "pycharm": {
     "name": "#%%\n"
    }
   },
   "outputs": [],
   "source": [
    "ds_kwargs = {'vocab': vocab, 'multiclass_col': label_col}"
   ]
  },
  {
   "cell_type": "markdown",
   "metadata": {
    "pycharm": {
     "name": "#%% md\n"
    }
   },
   "source": [
    "On top of that, the marker intensities have to be rescaled and normalised such that they resemble a normal distribution (mean 0 and standard deviation 1) as closely as possible.\n",
    "\n",
    "Color marker intensities are typically normally distributed while forward and side scatter intensities often are distributed exponentially. Therefore, the scatter intensities (here 'FSC-A' and 'SSC-A') have to be rescaled using $log(x + 1)$ to yield normal distributions. Alongside the 'forward' transformation (here $log(x + 1)$) the respective, inverse 'backward' transformation (here $e^x - 1$) has to be specified"
   ]
  },
  {
   "cell_type": "code",
   "execution_count": 7,
   "metadata": {
    "pycharm": {
     "name": "#%%\n"
    }
   },
   "outputs": [],
   "source": [
    "fcs_scaling = {'forward': {'FSC-A': lambda x: np.log(x + 1), 'SSC-A': lambda x: np.log(x + 1)},\n",
    "               'backward': {'FSC-A': lambda x: np.exp(x) - 1, 'SSC-A': lambda x: np.exp(x) - 1}}"
   ]
  },
  {
   "cell_type": "markdown",
   "metadata": {
    "pycharm": {
     "name": "#%% md\n"
    }
   },
   "source": [
    "The distributions have to be normalized such that the mean is 0 and a standard deviation is 1. This is simply done by subtracting the current mean and dividing by the current standard deviation. For the ND dataset, (mean, standard deviation) of the rescaled markers are:"
   ]
  },
  {
   "cell_type": "code",
   "execution_count": 8,
   "metadata": {
    "pycharm": {
     "name": "#%%\n"
    }
   },
   "outputs": [],
   "source": [
    "fcs_norm_stats = {'FSC-A': (12., .43), 'SSC-A': (11., .79), 'FITC-A': (1.8, 0.44), 'PerCP-Cy5-5-A': (0.96, 0.34),\n",
    "                  'Pacific Blue-A': (1.6, 0.36), 'Pacifc Orange-A': (1.3, 0.25), 'QDot 605-A': (0.72, 0.34),\n",
    "                  'APC-A': (1.1, 0.41), 'Alexa 700-A': (2.4, 0.5), 'PE-A': (1.4, 0.26),\n",
    "                  'PE-Cy5-A': (2.4, 0.36), 'PE-Cy7-A': (2.2, 0.47)}"
   ]
  },
  {
   "cell_type": "code",
   "execution_count": 9,
   "metadata": {
    "pycharm": {
     "name": "#%%\n"
    }
   },
   "outputs": [],
   "source": [
    "dl_kwargs = {'fcs_norm_stats': fcs_norm_stats, 'fcs_scaling': fcs_scaling}"
   ]
  },
  {
   "cell_type": "markdown",
   "metadata": {
    "pycharm": {
     "name": "#%% md\n"
    }
   },
   "source": [
    "Finally, the hyperparameters for the GateNet training are set"
   ]
  },
  {
   "cell_type": "code",
   "execution_count": 10,
   "metadata": {
    "pycharm": {
     "name": "#%%\n"
    }
   },
   "outputs": [
    {
     "name": "stdout",
     "output_type": "stream",
     "text": [
      "{'iters': 5000, 'iters_min': 50, 'epochs_max': 10, 'lr': 0.002, 'bs': 1024, 'gamma': 5, 'beta': 0.99, 'n_filter': (1024, 512, 256), 'n_filter_context': (64, 48), 'n_head_nodes': (32,), 'balance_ids': False, 'oversample_beta': 0.999, 'n_context_events': 1000}\n"
     ]
    }
   ],
   "source": [
    "hparams = HPARAMS\n",
    "print(hparams)"
   ]
  },
  {
   "cell_type": "markdown",
   "metadata": {
    "pycharm": {
     "name": "#%% md\n"
    }
   },
   "source": [
    "For a quick test run (with lower performance), the number of iterations can be reduced. By default it is set to 5000."
   ]
  },
  {
   "cell_type": "code",
   "execution_count": 11,
   "metadata": {
    "pycharm": {
     "name": "#%%\n"
    }
   },
   "outputs": [],
   "source": [
    "# hparams.update({'iters': 100})"
   ]
  },
  {
   "cell_type": "markdown",
   "metadata": {
    "pycharm": {
     "name": "#%% md\n"
    }
   },
   "source": [
    "To save time cross-validation is done with only two folds. "
   ]
  },
  {
   "cell_type": "code",
   "execution_count": 12,
   "metadata": {
    "pycharm": {
     "name": "#%%\n"
    }
   },
   "outputs": [
    {
     "data": {
      "text/html": [
       "\n",
       "<style>\n",
       "    /* Turns off some styling */\n",
       "    progress {\n",
       "        /* gets rid of default border in Firefox and Opera. */\n",
       "        border: none;\n",
       "        /* Needs to be in here for Safari polyfill so background images work as expected. */\n",
       "        background-size: auto;\n",
       "    }\n",
       "    .progress-bar-interrupted, .progress-bar-interrupted::-webkit-progress-bar {\n",
       "        background: #F44336;\n",
       "    }\n",
       "</style>\n"
      ],
      "text/plain": [
       "<IPython.core.display.HTML object>"
      ]
     },
     "metadata": {},
     "output_type": "display_data"
    },
    {
     "data": {
      "text/html": [
       "<table border=\"1\" class=\"dataframe\">\n",
       "  <thead>\n",
       "    <tr style=\"text-align: left;\">\n",
       "      <th>epoch</th>\n",
       "      <th>train_loss</th>\n",
       "      <th>valid_loss</th>\n",
       "      <th>accuracy</th>\n",
       "      <th>balanced_accuracy_score</th>\n",
       "      <th>f1_score</th>\n",
       "      <th>f1_score</th>\n",
       "      <th>time</th>\n",
       "    </tr>\n",
       "  </thead>\n",
       "  <tbody>\n",
       "    <tr>\n",
       "      <td>0</td>\n",
       "      <td>0.467315</td>\n",
       "      <td>0.463666</td>\n",
       "      <td>0.907356</td>\n",
       "      <td>0.823786</td>\n",
       "      <td>0.909113</td>\n",
       "      <td>0.742209</td>\n",
       "      <td>00:46</td>\n",
       "    </tr>\n",
       "    <tr>\n",
       "      <td>1</td>\n",
       "      <td>0.305363</td>\n",
       "      <td>0.347165</td>\n",
       "      <td>0.908695</td>\n",
       "      <td>0.710493</td>\n",
       "      <td>0.905737</td>\n",
       "      <td>0.739302</td>\n",
       "      <td>00:45</td>\n",
       "    </tr>\n",
       "    <tr>\n",
       "      <td>2</td>\n",
       "      <td>0.289080</td>\n",
       "      <td>0.325794</td>\n",
       "      <td>0.923804</td>\n",
       "      <td>0.764163</td>\n",
       "      <td>0.922050</td>\n",
       "      <td>0.779895</td>\n",
       "      <td>00:44</td>\n",
       "    </tr>\n",
       "    <tr>\n",
       "      <td>3</td>\n",
       "      <td>0.280539</td>\n",
       "      <td>0.313547</td>\n",
       "      <td>0.935331</td>\n",
       "      <td>0.802974</td>\n",
       "      <td>0.934712</td>\n",
       "      <td>0.797174</td>\n",
       "      <td>00:44</td>\n",
       "    </tr>\n",
       "    <tr>\n",
       "      <td>4</td>\n",
       "      <td>0.275316</td>\n",
       "      <td>0.315002</td>\n",
       "      <td>0.934086</td>\n",
       "      <td>0.795965</td>\n",
       "      <td>0.933366</td>\n",
       "      <td>0.809278</td>\n",
       "      <td>00:44</td>\n",
       "    </tr>\n",
       "    <tr>\n",
       "      <td>5</td>\n",
       "      <td>0.315446</td>\n",
       "      <td>0.933690</td>\n",
       "      <td>0.802459</td>\n",
       "      <td>0.933303</td>\n",
       "      <td>0.812824</td>\n",
       "      <td>00:32</td>\n",
       "    </tr>\n",
       "  </tbody>\n",
       "</table>"
      ],
      "text/plain": [
       "<IPython.core.display.HTML object>"
      ]
     },
     "metadata": {},
     "output_type": "display_data"
    },
    {
     "data": {
      "text/html": [
       "\n",
       "<style>\n",
       "    /* Turns off some styling */\n",
       "    progress {\n",
       "        /* gets rid of default border in Firefox and Opera. */\n",
       "        border: none;\n",
       "        /* Needs to be in here for Safari polyfill so background images work as expected. */\n",
       "        background-size: auto;\n",
       "    }\n",
       "    .progress-bar-interrupted, .progress-bar-interrupted::-webkit-progress-bar {\n",
       "        background: #F44336;\n",
       "    }\n",
       "</style>\n"
      ],
      "text/plain": [
       "<IPython.core.display.HTML object>"
      ]
     },
     "metadata": {},
     "output_type": "display_data"
    },
    {
     "data": {
      "text/html": [
       "<table border=\"1\" class=\"dataframe\">\n",
       "  <thead>\n",
       "    <tr style=\"text-align: left;\">\n",
       "      <th>epoch</th>\n",
       "      <th>train_loss</th>\n",
       "      <th>valid_loss</th>\n",
       "      <th>accuracy</th>\n",
       "      <th>balanced_accuracy_score</th>\n",
       "      <th>f1_score</th>\n",
       "      <th>f1_score</th>\n",
       "      <th>time</th>\n",
       "    </tr>\n",
       "  </thead>\n",
       "  <tbody>\n",
       "    <tr>\n",
       "      <td>0</td>\n",
       "      <td>0.494948</td>\n",
       "      <td>0.508408</td>\n",
       "      <td>0.887131</td>\n",
       "      <td>0.830464</td>\n",
       "      <td>0.892478</td>\n",
       "      <td>0.645103</td>\n",
       "      <td>00:39</td>\n",
       "    </tr>\n",
       "    <tr>\n",
       "      <td>1</td>\n",
       "      <td>0.304938</td>\n",
       "      <td>0.390118</td>\n",
       "      <td>0.876876</td>\n",
       "      <td>0.672030</td>\n",
       "      <td>0.876679</td>\n",
       "      <td>0.704691</td>\n",
       "      <td>00:38</td>\n",
       "    </tr>\n",
       "    <tr>\n",
       "      <td>2</td>\n",
       "      <td>0.286176</td>\n",
       "      <td>0.324510</td>\n",
       "      <td>0.925636</td>\n",
       "      <td>0.754328</td>\n",
       "      <td>0.923613</td>\n",
       "      <td>0.770315</td>\n",
       "      <td>00:38</td>\n",
       "    </tr>\n",
       "    <tr>\n",
       "      <td>3</td>\n",
       "      <td>0.278502</td>\n",
       "      <td>0.315459</td>\n",
       "      <td>0.934256</td>\n",
       "      <td>0.780562</td>\n",
       "      <td>0.932940</td>\n",
       "      <td>0.794213</td>\n",
       "      <td>00:38</td>\n",
       "    </tr>\n",
       "    <tr>\n",
       "      <td>4</td>\n",
       "      <td>0.273357</td>\n",
       "      <td>0.313261</td>\n",
       "      <td>0.936106</td>\n",
       "      <td>0.804436</td>\n",
       "      <td>0.935711</td>\n",
       "      <td>0.816751</td>\n",
       "      <td>00:39</td>\n",
       "    </tr>\n",
       "    <tr>\n",
       "      <td>5</td>\n",
       "      <td>0.312109</td>\n",
       "      <td>0.937376</td>\n",
       "      <td>0.813988</td>\n",
       "      <td>0.936886</td>\n",
       "      <td>0.821001</td>\n",
       "      <td>00:37</td>\n",
       "    </tr>\n",
       "  </tbody>\n",
       "</table>"
      ],
      "text/plain": [
       "<IPython.core.display.HTML object>"
      ]
     },
     "metadata": {},
     "output_type": "display_data"
    },
    {
     "name": "stdout",
     "output_type": "stream",
     "text": [
      "       FSC-A      SSC-A    FITC-A  PerCP-Cy5-5-A  Pacific Blue-A  \\\n",
      "0  11.540473  10.790753  2.157689       0.579083        1.930591   \n",
      "1  10.871103   9.989284  1.962930       0.401545        1.797101   \n",
      "2  11.093181  10.688510  2.064609       0.281483        1.785131   \n",
      "3  11.567129  12.020021  2.266574       1.119162        1.928758   \n",
      "4  10.843714  10.350043  2.076122       0.328035        1.740867   \n",
      "\n",
      "   Pacifc Orange-A  QDot 605-A     APC-A  Alexa 700-A      PE-A  ...  0  1  2  \\\n",
      "0         1.253792    0.842704  0.887293     1.839019  1.305078  ...  1  0  0   \n",
      "1         1.227518    0.871632  1.043129     1.782810  1.151766  ...  1  0  0   \n",
      "2         1.213261    0.635844  0.288231     1.856309  1.181292  ...  1  0  0   \n",
      "3         1.275034    0.840032  1.035842     2.085839  1.334119  ...  0  0  1   \n",
      "4         1.627157    0.956006  0.725581     1.928788  1.099105  ...  1  0  0   \n",
      "\n",
      "   3  4  5  6  7                                                   id  fold  \n",
      "0  0  0  0  0  0  /mnt/data-ssd/cyto/flowcap1/Data/Labels/NDD/003.csv     0  \n",
      "1  0  0  0  0  0  /mnt/data-ssd/cyto/flowcap1/Data/Labels/NDD/003.csv     0  \n",
      "2  0  0  0  0  0  /mnt/data-ssd/cyto/flowcap1/Data/Labels/NDD/003.csv     0  \n",
      "3  0  0  0  0  0  /mnt/data-ssd/cyto/flowcap1/Data/Labels/NDD/003.csv     0  \n",
      "4  0  0  0  0  0  /mnt/data-ssd/cyto/flowcap1/Data/Labels/NDD/003.csv     0  \n",
      "\n",
      "[5 rows x 30 columns]\n"
     ]
    }
   ],
   "source": [
    "result = cv(df, hparams, ds_kwargs, dl_kwargs, folds=2, with_targs=True)\n",
    "print(result.head())"
   ]
  },
  {
   "cell_type": "markdown",
   "metadata": {
    "pycharm": {
     "name": "#%% md\n"
    }
   },
   "source": [
    "The 'result' of the cross validation is a DataFrame with marker intensities + true labels + predicted labels + id (filename) + fold across all validation folds. In this case, this are too many columns to display. So we split it up into the marker intensities..."
   ]
  },
  {
   "cell_type": "code",
   "execution_count": 16,
   "metadata": {
    "pycharm": {
     "name": "#%%\n"
    }
   },
   "outputs": [
    {
     "name": "stdout",
     "output_type": "stream",
     "text": [
      "       FSC-A      SSC-A    FITC-A  PerCP-Cy5-5-A  Pacific Blue-A  \\\n",
      "0  11.540473  10.790753  2.157689       0.579083        1.930591   \n",
      "1  10.871103   9.989284  1.962930       0.401545        1.797101   \n",
      "2  11.093181  10.688510  2.064609       0.281483        1.785131   \n",
      "3  11.567129  12.020021  2.266574       1.119162        1.928758   \n",
      "4  10.843714  10.350043  2.076122       0.328035        1.740867   \n",
      "\n",
      "   Pacifc Orange-A  QDot 605-A     APC-A  Alexa 700-A      PE-A  PE-Cy5-A  \\\n",
      "0         1.253792    0.842704  0.887293     1.839019  1.305078  2.300368   \n",
      "1         1.227518    0.871632  1.043129     1.782810  1.151766  2.834283   \n",
      "2         1.213261    0.635844  0.288231     1.856309  1.181292  3.147278   \n",
      "3         1.275034    0.840032  1.035842     2.085839  1.334119  2.058220   \n",
      "4         1.627157    0.956006  0.725581     1.928788  1.099105  2.853909   \n",
      "\n",
      "   PE-Cy7-A  \n",
      "0  1.809408  \n",
      "1  2.883132  \n",
      "2  2.747585  \n",
      "3  1.577168  \n",
      "4  3.004694  \n"
     ]
    }
   ],
   "source": [
    "print(result.iloc[:, :12].head())"
   ]
  },
  {
   "cell_type": "markdown",
   "metadata": {},
   "source": [
    "...and the predicted labels, true labels, id (filename) and fold across all validation folds"
   ]
  },
  {
   "cell_type": "code",
   "execution_count": 17,
   "metadata": {},
   "outputs": [
    {
     "name": "stdout",
     "output_type": "stream",
     "text": [
      "     0_pred    1_pred    2_pred    3_pred    4_pred    5_pred    6_pred  \\\n",
      "0  0.000862  0.000554  0.000087  0.996754  0.000981  0.000218  0.000058   \n",
      "1  0.000337  0.000098  0.000269  0.000082  0.000033  0.000016  0.999104   \n",
      "2  0.999303  0.000083  0.000314  0.000212  0.000027  0.000028  0.000010   \n",
      "3  0.000058  0.000013  0.999840  0.000007  0.000003  0.000007  0.000042   \n",
      "4  0.000035  0.000010  0.000013  0.000009  0.000008  0.000006  0.999904   \n",
      "\n",
      "     7_pred  0  1  2  3  4  5  6  7  \\\n",
      "0  0.000486  1  0  0  0  0  0  0  0   \n",
      "1  0.000061  1  0  0  0  0  0  0  0   \n",
      "2  0.000023  1  0  0  0  0  0  0  0   \n",
      "3  0.000030  0  0  1  0  0  0  0  0   \n",
      "4  0.000016  1  0  0  0  0  0  0  0   \n",
      "\n",
      "                                                    id  fold  \n",
      "0  /mnt/data-ssd/cyto/flowcap1/Data/Labels/NDD/003.csv     0  \n",
      "1  /mnt/data-ssd/cyto/flowcap1/Data/Labels/NDD/003.csv     0  \n",
      "2  /mnt/data-ssd/cyto/flowcap1/Data/Labels/NDD/003.csv     0  \n",
      "3  /mnt/data-ssd/cyto/flowcap1/Data/Labels/NDD/003.csv     0  \n",
      "4  /mnt/data-ssd/cyto/flowcap1/Data/Labels/NDD/003.csv     0  \n"
     ]
    }
   ],
   "source": [
    "print(result.iloc[:, 12:].head())"
   ]
  },
  {
   "cell_type": "markdown",
   "metadata": {},
   "source": [
    "## Visualize results"
   ]
  },
  {
   "cell_type": "code",
   "execution_count": 14,
   "metadata": {
    "pycharm": {
     "name": "#%%\n"
    }
   },
   "outputs": [
    {
     "data": {
      "image/png": "[encoded data removed]",
      "text/plain": [
       "<Figure size 432x288 with 2 Axes>"
      ]
     },
     "metadata": {
      "needs_background": "light"
     },
     "output_type": "display_data"
    }
   ],
   "source": [
    "plot_confusion_matrix(result)"
   ]
  }
 ],
 "metadata": {
  "kernelspec": {
   "display_name": "Python 3 (ipykernel)",
   "language": "python",
   "name": "python3"
  },
  "language_info": {
   "codemirror_mode": {
    "name": "ipython",
    "version": 3
   },
   "file_extension": ".py",
   "mimetype": "text/x-python",
   "name": "python",
   "nbconvert_exporter": "python",
   "pygments_lexer": "ipython3",
   "version": "3.9.12"
  }
 },
 "nbformat": 4,
 "nbformat_minor": 1
}
